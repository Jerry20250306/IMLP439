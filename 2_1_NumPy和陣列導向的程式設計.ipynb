{
  "cells": [
    {
      "cell_type": "markdown",
      "metadata": {
        "id": "view-in-github",
        "colab_type": "text"
      },
      "source": [
        "<a href=\"https://colab.research.google.com/github/Jerry20250306/IMLP439/blob/main/2_1_NumPy%E5%92%8C%E9%99%A3%E5%88%97%E5%B0%8E%E5%90%91%E7%9A%84%E7%A8%8B%E5%BC%8F%E8%A8%AD%E8%A8%88.ipynb\" target=\"_parent\"><img src=\"https://colab.research.google.com/assets/colab-badge.svg\" alt=\"Open In Colab\"/></a>"
      ]
    },
    {
      "cell_type": "markdown",
      "metadata": {
        "id": "wFT2snJdBgpc"
      },
      "source": [
        "# NumPy 和陣列導向的程式設計\n",
        "\n",
        "`NumPy` 可以說是 Python 中最最標準的科學計算、數據分析套件。也因為 `NumPy` 的出現, 讓 Python 有了非常好的數據分析基礎, 一直到現在成為數據分析覇主。"
      ]
    },
    {
      "cell_type": "code",
      "execution_count": 3,
      "metadata": {
        "id": "PuB05yzDBgpg"
      },
      "outputs": [],
      "source": [
        "import numpy as np"
      ]
    },
    {
      "cell_type": "markdown",
      "metadata": {
        "id": "vGDs5XPFBgph"
      },
      "source": [
        "## 1. 陣列導向 101\n",
        "\n",
        "科學計算一個很核心的概念叫 \"array oriented\" 的寫法。Array 是 `numpy` 標準的資料結構, 和 list 很像, 但就差了那麼一點點。而這一點點讓我們在計算上是無比的方便。"
      ]
    },
    {
      "cell_type": "markdown",
      "metadata": {
        "id": "q1oQOgt7Bgph"
      },
      "source": [
        "### 【暖身】 計算平均\n",
        "\n",
        "某位同學期中考各科成績如下, 請幫他計算成績。\n",
        "\n",
        "    grades = [77, 85, 56, 90, 66]\n",
        "    \n",
        "請計算平均。"
      ]
    },
    {
      "cell_type": "code",
      "execution_count": 11,
      "metadata": {
        "colab": {
          "base_uri": "https://localhost:8080/"
        },
        "id": "Vw-AX86kBgpi",
        "outputId": "109f4cca-9d03-45a0-d9e5-230c662d998f"
      },
      "outputs": [
        {
          "output_type": "stream",
          "name": "stdout",
          "text": [
            "average= 74.80,sum=374\n",
            "<class 'list'>\n"
          ]
        }
      ],
      "source": [
        "s=0\n",
        "grades = [77, 85, 56, 90, 66]\n",
        "for i in grades:\n",
        "    s+=i\n",
        "print(\"average= {0:.2f},sum={1}\".format(s/len(grades),s))\n",
        "\n",
        "print(type(grades))"
      ]
    },
    {
      "cell_type": "markdown",
      "metadata": {
        "id": "j0SLVquEBgpi"
      },
      "source": [
        "### 【示範】陣列導向"
      ]
    },
    {
      "cell_type": "code",
      "execution_count": 13,
      "metadata": {
        "colab": {
          "base_uri": "https://localhost:8080/"
        },
        "id": "Jho8bvpCBgpi",
        "outputId": "7cfefbb3-0b82-4ab9-ed06-e0c1c95545e6"
      },
      "outputs": [
        {
          "output_type": "execute_result",
          "data": {
            "text/plain": [
              "74.8"
            ]
          },
          "metadata": {},
          "execution_count": 13
        }
      ],
      "source": [
        "arr=np.array(grades)\n",
        "arr.mean()"
      ]
    },
    {
      "cell_type": "markdown",
      "metadata": {
        "id": "_t6yBNN5Bgpj"
      },
      "source": [
        "最大值"
      ]
    },
    {
      "cell_type": "code",
      "execution_count": 15,
      "metadata": {
        "colab": {
          "base_uri": "https://localhost:8080/"
        },
        "id": "3rVOpt06Bgpj",
        "outputId": "fc6f848d-5317-49f7-f8e1-23c8b921930c"
      },
      "outputs": [
        {
          "output_type": "execute_result",
          "data": {
            "text/plain": [
              "90"
            ]
          },
          "metadata": {},
          "execution_count": 15
        }
      ],
      "source": [
        "arr.max()"
      ]
    },
    {
      "cell_type": "markdown",
      "metadata": {
        "id": "XR3Nx19rBgpj"
      },
      "source": [
        "標準差"
      ]
    },
    {
      "cell_type": "code",
      "execution_count": 16,
      "metadata": {
        "colab": {
          "base_uri": "https://localhost:8080/"
        },
        "id": "ESbu87j0Bgpj",
        "outputId": "4f9604d1-012b-4601-d4d5-8b4dced3d595"
      },
      "outputs": [
        {
          "output_type": "execute_result",
          "data": {
            "text/plain": [
              "12.416118556135006"
            ]
          },
          "metadata": {},
          "execution_count": 16
        }
      ],
      "source": [
        "arr.std()"
      ]
    },
    {
      "cell_type": "markdown",
      "metadata": {
        "id": "BC-f05rSBgpj"
      },
      "source": [
        "### 【暖身】 換算匯率\n",
        "\n",
        "假設今天我想查查號稱 Pentax 三公主的 31mm, 43mm, 77mm 三隻 limited 鏡頭在美國賣多少。於是我去 B&H 查了他們的價格分別是:\n",
        "\n",
        "    prices = [1096.95, 596.95, 896.95]\n",
        "    \n",
        "我又查了 Google 匯率 1 美金為 31.71 元。請把三支鏡頭的價格換算為台幣。"
      ]
    },
    {
      "cell_type": "code",
      "execution_count": 17,
      "metadata": {
        "collapsed": true,
        "id": "LArlDxvmBgpk"
      },
      "outputs": [],
      "source": [
        "prices = [1096.95, 596.95, 896.95]\n"
      ]
    },
    {
      "cell_type": "markdown",
      "metadata": {
        "id": "Zt-lC8clBgpk"
      },
      "source": [
        "先不管這實在有夠醜的數字, 我們要記得在科學計算中:\n",
        "\n",
        "### 儘可能不要使用迴圈\n",
        "\n",
        "這可能嗎?"
      ]
    },
    {
      "cell_type": "markdown",
      "metadata": {
        "id": "oQtY8-NgBgpk"
      },
      "source": [
        "### 【示範】陣列換算匯率"
      ]
    },
    {
      "cell_type": "code",
      "execution_count": 23,
      "metadata": {
        "colab": {
          "base_uri": "https://localhost:8080/"
        },
        "id": "M0cc77f_Bgpk",
        "outputId": "115f86ea-a726-44f8-fe34-d841515181f8"
      },
      "outputs": [
        {
          "output_type": "execute_result",
          "data": {
            "text/plain": [
              "array([34784.2845, 18929.2845, 28442.2845])"
            ]
          },
          "metadata": {},
          "execution_count": 23
        }
      ],
      "source": [
        "prices = [1096.95, 596.95, 896.95]\n",
        "USD2TWD=31.71\n",
        "prices=np.array(prices)\n",
        "prices*USD2TWD\n",
        "#print(prices_TWD)"
      ]
    },
    {
      "cell_type": "markdown",
      "metadata": {
        "id": "cbMYQmHwBgpl"
      },
      "source": [
        "哦哦, 傑克, 這太神奇了!"
      ]
    },
    {
      "cell_type": "markdown",
      "metadata": {
        "id": "nlgdpMEZBgpl"
      },
      "source": [
        "## 2. 其實 array 還有很多功能\n",
        "\n",
        "### 【練習】 成績計算\n",
        "\n",
        "一位老師成績這樣算的:\n",
        "\n",
        "* 平時成績 20%\n",
        "* 期中考   35%\n",
        "* 期未考   45%\n",
        "\n",
        "有位同學\n",
        "\n",
        "* 平時成績 85 分\n",
        "* 期中 70 分\n",
        "* 期末 80 分\n",
        "\n",
        "這位同學的學期成績是多少?"
      ]
    },
    {
      "cell_type": "code",
      "execution_count": null,
      "metadata": {
        "id": "f_Jop95nBgpl"
      },
      "outputs": [],
      "source": [
        "grades = np.array([85,70,80])\n",
        "weights = np.array([0.2, 0.35, 0.45])"
      ]
    },
    {
      "cell_type": "markdown",
      "metadata": {
        "id": "mMFw8kDyBgpl"
      },
      "source": [
        "這還不是我們要的最終成績啊!"
      ]
    },
    {
      "cell_type": "code",
      "execution_count": 9,
      "metadata": {
        "colab": {
          "base_uri": "https://localhost:8080/"
        },
        "id": "7HC37aQ6Bgpl",
        "outputId": "42670e58-0784-447f-94fc-3a526bff77f8"
      },
      "outputs": [
        {
          "output_type": "execute_result",
          "data": {
            "text/plain": [
              "77.5"
            ]
          },
          "metadata": {},
          "execution_count": 9
        }
      ],
      "source": [
        "grades = np.array([85,70,80])\n",
        "weights = np.array([0.2, 0.35, 0.45])\n",
        "weighted_grades=(grades*weights)\n",
        "weighted_grades.sum()"
      ]
    },
    {
      "cell_type": "markdown",
      "metadata": {
        "id": "NZB5o7akBgpl"
      },
      "source": [
        "### 【提示】 array 還有很多函數可以用\n",
        "\n",
        "可以先打入\n",
        "\n",
        "    weighted_grades.\n",
        "    \n",
        "先不要按 `enter` 或 `shift-enter`, 而是按 `tab`...\n"
      ]
    },
    {
      "cell_type": "code",
      "execution_count": 32,
      "metadata": {
        "colab": {
          "base_uri": "https://localhost:8080/"
        },
        "id": "6cmYzv8iBgpm",
        "outputId": "39e06ebe-682f-4702-a21c-2b82288c5c28"
      },
      "outputs": [
        {
          "output_type": "execute_result",
          "data": {
            "text/plain": [
              "77.5"
            ]
          },
          "metadata": {},
          "execution_count": 32
        }
      ],
      "source": [
        "weighted_grades.sum()"
      ]
    },
    {
      "cell_type": "markdown",
      "metadata": {
        "id": "bKlRQPJzBgpm"
      },
      "source": [
        "### 【技巧】 一行完成成績計算"
      ]
    },
    {
      "cell_type": "code",
      "execution_count": 33,
      "metadata": {
        "colab": {
          "base_uri": "https://localhost:8080/"
        },
        "id": "rJVm7nhUBgpm",
        "outputId": "8108461c-7fe7-40cf-f460-4def82bfb97f"
      },
      "outputs": [
        {
          "output_type": "execute_result",
          "data": {
            "text/plain": [
              "77.5"
            ]
          },
          "metadata": {},
          "execution_count": 33
        }
      ],
      "source": [
        "np.dot(grades,weights)"
      ]
    },
    {
      "cell_type": "markdown",
      "metadata": {
        "id": "cteDTsIhBgpm"
      },
      "source": [
        "## 3. 重要的 array 大變身!\n",
        "\n",
        "我們在數據分析, 常常要改 array 的型式。"
      ]
    },
    {
      "cell_type": "markdown",
      "metadata": {
        "id": "79-YQg7jBgpm"
      },
      "source": [
        "### 【練習】 一個 50 個數字的 array\n",
        "\n",
        "先想辦法、用亂數做出 50 個數字的 array, 叫做 A 好了。"
      ]
    },
    {
      "cell_type": "code",
      "execution_count": 42,
      "metadata": {
        "colab": {
          "base_uri": "https://localhost:8080/"
        },
        "id": "_yiCThxGBgpn",
        "outputId": "94e56d25-c106-4324-80e6-7fd0af8d3558"
      },
      "outputs": [
        {
          "output_type": "execute_result",
          "data": {
            "text/plain": [
              "array([0.04296745, 0.86681193, 0.92101214, 0.28249701, 0.14231085,\n",
              "       0.87503936, 0.43082503, 0.8294264 , 0.07149791, 0.84760943,\n",
              "       0.74873172, 0.16583434, 0.28128314, 0.04191607, 0.8733922 ,\n",
              "       0.02128377, 0.68310213, 0.44270555, 0.67492708, 0.56704785,\n",
              "       0.11111421, 0.53625087, 0.09613228, 0.33178659, 0.17860785,\n",
              "       0.22782275, 0.61786738, 0.07190321, 0.15404954, 0.18159408,\n",
              "       0.36553656, 0.53703067, 0.58970211, 0.75200766, 0.65319135,\n",
              "       0.27923045, 0.38847647, 0.32938799, 0.02076335, 0.19676414,\n",
              "       0.65984108, 0.86934508, 0.22366697, 0.33782692, 0.12002307,\n",
              "       0.04937142, 0.77428202, 0.06752445, 0.91725547, 0.0353281 ])"
            ]
          },
          "metadata": {},
          "execution_count": 42
        }
      ],
      "source": [
        "A=np.random.rand(50)\n",
        "A"
      ]
    },
    {
      "cell_type": "code",
      "execution_count": 43,
      "metadata": {
        "colab": {
          "base_uri": "https://localhost:8080/"
        },
        "id": "fNSd8rhFBgpn",
        "outputId": "005e98de-d80e-4b2a-f76a-c3fc8dbdc287"
      },
      "outputs": [
        {
          "output_type": "execute_result",
          "data": {
            "text/plain": [
              "0.04296745296924309"
            ]
          },
          "metadata": {},
          "execution_count": 43
        }
      ],
      "source": [
        "A[0]"
      ]
    },
    {
      "cell_type": "markdown",
      "metadata": {
        "id": "jamnCyH-Bgpn"
      },
      "source": [
        "### 【技巧】 檢查 A 的 `shape`"
      ]
    },
    {
      "cell_type": "code",
      "execution_count": 44,
      "metadata": {
        "colab": {
          "base_uri": "https://localhost:8080/"
        },
        "id": "iuvAsmLOBgpn",
        "outputId": "6bbe0f38-ca7d-4687-ae7e-0a4484c385cd"
      },
      "outputs": [
        {
          "output_type": "execute_result",
          "data": {
            "text/plain": [
              "(50,)"
            ]
          },
          "metadata": {},
          "execution_count": 44
        }
      ],
      "source": [
        "A.shape"
      ]
    },
    {
      "cell_type": "markdown",
      "metadata": {
        "id": "FETJhYktBgpo"
      },
      "source": [
        "### 【技巧】 更改 A 的 shape"
      ]
    },
    {
      "cell_type": "code",
      "execution_count": 39,
      "metadata": {
        "colab": {
          "base_uri": "https://localhost:8080/"
        },
        "id": "h5mrp4gJBgpo",
        "outputId": "ba8a1c1d-9bf2-455f-966b-e1fbcc192e0e"
      },
      "outputs": [
        {
          "output_type": "execute_result",
          "data": {
            "text/plain": [
              "array([[0.56242586, 0.75092496, 0.92933303, 0.12025753, 0.49639879,\n",
              "        0.35960627, 0.36460548, 0.8134499 , 0.4407443 , 0.25657927],\n",
              "       [0.23486964, 0.89232781, 0.22572324, 0.00482831, 0.61476141,\n",
              "        0.86122489, 0.71828334, 0.32637088, 0.96294743, 0.62211091],\n",
              "       [0.89730279, 0.84111271, 0.45552457, 0.50880593, 0.65386567,\n",
              "        0.6136438 , 0.87469965, 0.23171665, 0.01716827, 0.30490693],\n",
              "       [0.88145783, 0.34128775, 0.70509146, 0.96356588, 0.35521999,\n",
              "        0.04391673, 0.53684717, 0.62157989, 0.8083491 , 0.0469616 ],\n",
              "       [0.03913361, 0.00225285, 0.74908073, 0.92172579, 0.09335468,\n",
              "        0.49579751, 0.15265741, 0.02748104, 0.18779821, 0.58468249]])"
            ]
          },
          "metadata": {},
          "execution_count": 39
        }
      ],
      "source": [
        "A.shape=(5,10)\n",
        "A"
      ]
    },
    {
      "cell_type": "markdown",
      "metadata": {
        "id": "YTLO0oOPBgpo"
      },
      "source": [
        "### 【技巧】 也可以用 `reshape`\n",
        "\n",
        "但要注意, reshape 並沒有改原來的陣列。"
      ]
    },
    {
      "cell_type": "code",
      "execution_count": 45,
      "metadata": {
        "colab": {
          "base_uri": "https://localhost:8080/"
        },
        "id": "CIUbRw52Bgpo",
        "outputId": "ed38fc5b-3528-4e63-aef4-1a19c3167e50"
      },
      "outputs": [
        {
          "output_type": "execute_result",
          "data": {
            "text/plain": [
              "array([[0.04296745, 0.86681193, 0.92101214, 0.28249701, 0.14231085],\n",
              "       [0.87503936, 0.43082503, 0.8294264 , 0.07149791, 0.84760943],\n",
              "       [0.74873172, 0.16583434, 0.28128314, 0.04191607, 0.8733922 ],\n",
              "       [0.02128377, 0.68310213, 0.44270555, 0.67492708, 0.56704785],\n",
              "       [0.11111421, 0.53625087, 0.09613228, 0.33178659, 0.17860785],\n",
              "       [0.22782275, 0.61786738, 0.07190321, 0.15404954, 0.18159408],\n",
              "       [0.36553656, 0.53703067, 0.58970211, 0.75200766, 0.65319135],\n",
              "       [0.27923045, 0.38847647, 0.32938799, 0.02076335, 0.19676414],\n",
              "       [0.65984108, 0.86934508, 0.22366697, 0.33782692, 0.12002307],\n",
              "       [0.04937142, 0.77428202, 0.06752445, 0.91725547, 0.0353281 ]])"
            ]
          },
          "metadata": {},
          "execution_count": 45
        }
      ],
      "source": [
        "A.reshape(10,5)"
      ]
    },
    {
      "cell_type": "markdown",
      "metadata": {
        "id": "501oStHzBgpo"
      },
      "source": [
        "### 【技巧】 拉平 `ravel`\n",
        "\n",
        "雖然你想一想就知道可以用 `shape` 或 `reshape` 把多維陣列拉成一維。不過用 `ravel` 很潮。"
      ]
    },
    {
      "cell_type": "code",
      "execution_count": 46,
      "metadata": {
        "colab": {
          "base_uri": "https://localhost:8080/"
        },
        "id": "9PZquR9wBgpp",
        "outputId": "ccb42220-a2fd-45c4-8efa-41fb7e3a9d0e"
      },
      "outputs": [
        {
          "output_type": "execute_result",
          "data": {
            "text/plain": [
              "array([0.04296745, 0.86681193, 0.92101214, 0.28249701, 0.14231085,\n",
              "       0.87503936, 0.43082503, 0.8294264 , 0.07149791, 0.84760943,\n",
              "       0.74873172, 0.16583434, 0.28128314, 0.04191607, 0.8733922 ,\n",
              "       0.02128377, 0.68310213, 0.44270555, 0.67492708, 0.56704785,\n",
              "       0.11111421, 0.53625087, 0.09613228, 0.33178659, 0.17860785,\n",
              "       0.22782275, 0.61786738, 0.07190321, 0.15404954, 0.18159408,\n",
              "       0.36553656, 0.53703067, 0.58970211, 0.75200766, 0.65319135,\n",
              "       0.27923045, 0.38847647, 0.32938799, 0.02076335, 0.19676414,\n",
              "       0.65984108, 0.86934508, 0.22366697, 0.33782692, 0.12002307,\n",
              "       0.04937142, 0.77428202, 0.06752445, 0.91725547, 0.0353281 ])"
            ]
          },
          "metadata": {},
          "execution_count": 46
        }
      ],
      "source": [
        "A.ravel()"
      ]
    },
    {
      "cell_type": "markdown",
      "metadata": {
        "id": "PdJB-HLhBgpp"
      },
      "source": [
        "## 4. 快速 array 生成法"
      ]
    },
    {
      "cell_type": "markdown",
      "metadata": {
        "id": "x8iAnwjLBgpq"
      },
      "source": [
        "### 【技巧】 都是 0 的 array"
      ]
    },
    {
      "cell_type": "code",
      "execution_count": 50,
      "metadata": {
        "colab": {
          "base_uri": "https://localhost:8080/"
        },
        "id": "S5B1yVyZBgpr",
        "outputId": "cba73d2e-4be5-4d29-de5e-ee4879136b72"
      },
      "outputs": [
        {
          "output_type": "execute_result",
          "data": {
            "text/plain": [
              "array([[0., 0., 0., 0.],\n",
              "       [0., 0., 0., 0.],\n",
              "       [0., 0., 0., 0.]])"
            ]
          },
          "metadata": {},
          "execution_count": 50
        }
      ],
      "source": [
        "np.zeros(10)\n",
        "np.zeros((3,4))"
      ]
    },
    {
      "cell_type": "markdown",
      "metadata": {
        "id": "agkvJIMPBgpr"
      },
      "source": [
        "### 【技巧】 都是 1 的 array"
      ]
    },
    {
      "cell_type": "code",
      "execution_count": null,
      "metadata": {
        "id": "-kHDsGpwBgpr",
        "outputId": "28825ad5-e7d5-4470-a5b5-8c93747ff6ba"
      },
      "outputs": [
        {
          "data": {
            "text/plain": [
              "array([1., 1., 1., 1., 1., 1., 1., 1., 1., 1.])"
            ]
          },
          "execution_count": 38,
          "metadata": {},
          "output_type": "execute_result"
        }
      ],
      "source": []
    },
    {
      "cell_type": "markdown",
      "metadata": {
        "id": "TRY0mSKaBgpr"
      },
      "source": [
        "### 【技巧】單位矩陣"
      ]
    },
    {
      "cell_type": "code",
      "execution_count": 51,
      "metadata": {
        "colab": {
          "base_uri": "https://localhost:8080/"
        },
        "id": "yaU3x1EpBgpr",
        "outputId": "5f45add5-cd7d-4018-b048-529b4da3e5f7"
      },
      "outputs": [
        {
          "output_type": "execute_result",
          "data": {
            "text/plain": [
              "array([[1., 0., 0., 0., 0.],\n",
              "       [0., 1., 0., 0., 0.],\n",
              "       [0., 0., 1., 0., 0.],\n",
              "       [0., 0., 0., 1., 0.],\n",
              "       [0., 0., 0., 0., 1.]])"
            ]
          },
          "metadata": {},
          "execution_count": 51
        }
      ],
      "source": [
        "#單位矩陣:斜角1其他0\n",
        "np.eye(5)"
      ]
    },
    {
      "cell_type": "markdown",
      "metadata": {
        "id": "peQ3p93JBgps"
      },
      "source": [
        "### 【技巧】給定範圍均勻生出 n 個點"
      ]
    },
    {
      "cell_type": "code",
      "execution_count": 53,
      "metadata": {
        "colab": {
          "base_uri": "https://localhost:8080/"
        },
        "id": "ubatFHn1Bgps",
        "outputId": "30121f68-25bf-469b-8031-1d257dc44aa2"
      },
      "outputs": [
        {
          "output_type": "execute_result",
          "data": {
            "text/plain": [
              "array([ 0.        ,  0.1010101 ,  0.2020202 ,  0.3030303 ,  0.4040404 ,\n",
              "        0.50505051,  0.60606061,  0.70707071,  0.80808081,  0.90909091,\n",
              "        1.01010101,  1.11111111,  1.21212121,  1.31313131,  1.41414141,\n",
              "        1.51515152,  1.61616162,  1.71717172,  1.81818182,  1.91919192,\n",
              "        2.02020202,  2.12121212,  2.22222222,  2.32323232,  2.42424242,\n",
              "        2.52525253,  2.62626263,  2.72727273,  2.82828283,  2.92929293,\n",
              "        3.03030303,  3.13131313,  3.23232323,  3.33333333,  3.43434343,\n",
              "        3.53535354,  3.63636364,  3.73737374,  3.83838384,  3.93939394,\n",
              "        4.04040404,  4.14141414,  4.24242424,  4.34343434,  4.44444444,\n",
              "        4.54545455,  4.64646465,  4.74747475,  4.84848485,  4.94949495,\n",
              "        5.05050505,  5.15151515,  5.25252525,  5.35353535,  5.45454545,\n",
              "        5.55555556,  5.65656566,  5.75757576,  5.85858586,  5.95959596,\n",
              "        6.06060606,  6.16161616,  6.26262626,  6.36363636,  6.46464646,\n",
              "        6.56565657,  6.66666667,  6.76767677,  6.86868687,  6.96969697,\n",
              "        7.07070707,  7.17171717,  7.27272727,  7.37373737,  7.47474747,\n",
              "        7.57575758,  7.67676768,  7.77777778,  7.87878788,  7.97979798,\n",
              "        8.08080808,  8.18181818,  8.28282828,  8.38383838,  8.48484848,\n",
              "        8.58585859,  8.68686869,  8.78787879,  8.88888889,  8.98989899,\n",
              "        9.09090909,  9.19191919,  9.29292929,  9.39393939,  9.49494949,\n",
              "        9.5959596 ,  9.6969697 ,  9.7979798 ,  9.8989899 , 10.        ])"
            ]
          },
          "metadata": {},
          "execution_count": 53
        }
      ],
      "source": [
        "x=np.linspace(0,10,100)\n",
        "x"
      ]
    },
    {
      "cell_type": "markdown",
      "metadata": {
        "id": "uf7izPoKBgps"
      },
      "source": [
        "### 【技巧】`range` 的 array 版\n",
        "\n",
        "就是 `arange`。"
      ]
    },
    {
      "cell_type": "code",
      "execution_count": 62,
      "metadata": {
        "colab": {
          "base_uri": "https://localhost:8080/"
        },
        "id": "gpa_Sq1qBgpt",
        "outputId": "0905c578-e666-4cb6-fcc3-8ca21ecbbcf5"
      },
      "outputs": [
        {
          "output_type": "execute_result",
          "data": {
            "text/plain": [
              "array([1. , 1.2, 1.4, 1.6, 1.8, 2. , 2.2, 2.4, 2.6, 2.8, 3. , 3.2, 3.4,\n",
              "       3.6, 3.8, 4. , 4.2, 4.4, 4.6, 4.8, 5. , 5.2, 5.4, 5.6, 5.8, 6. ,\n",
              "       6.2, 6.4, 6.6, 6.8, 7. , 7.2, 7.4, 7.6, 7.8, 8. , 8.2, 8.4, 8.6,\n",
              "       8.8, 9. , 9.2, 9.4, 9.6, 9.8])"
            ]
          },
          "metadata": {},
          "execution_count": 62
        }
      ],
      "source": [
        "np.arange(1,10,0.2)"
      ]
    },
    {
      "cell_type": "markdown",
      "metadata": {
        "id": "_P8_3PXVBgpt"
      },
      "source": [
        "## 5. 超重要 `axis` 觀念\n",
        "\n",
        "初學 `numpy` 很多人有點弄不清楚 `axis` 概念。其實掌握矩陣, 或很像矩陣的陣列都是「先列後行」就可以!\n",
        "\n",
        "我們先弄個 array 來練習。"
      ]
    },
    {
      "cell_type": "code",
      "execution_count": 4,
      "metadata": {
        "colab": {
          "base_uri": "https://localhost:8080/"
        },
        "id": "SMnj-F5JBgpt",
        "outputId": "d0ccb902-e6a5-4474-854e-b8c4f454c0ca"
      },
      "outputs": [
        {
          "output_type": "execute_result",
          "data": {
            "text/plain": [
              "array([[0, 1, 2, 3, 4],\n",
              "       [5, 6, 7, 8, 9]])"
            ]
          },
          "metadata": {},
          "execution_count": 4
        }
      ],
      "source": [
        "A=np.arange(10).reshape(2,5)\n",
        "A"
      ]
    },
    {
      "cell_type": "markdown",
      "metadata": {
        "id": "8DzIxC02Bgpt"
      },
      "source": [
        "### 【重點】 一列一列算下來是 `axis=0`"
      ]
    },
    {
      "cell_type": "markdown",
      "metadata": {
        "id": "SzEd6vgYBgpu"
      },
      "source": [
        "![axis=0](images/axis0.png)"
      ]
    },
    {
      "cell_type": "code",
      "execution_count": 64,
      "metadata": {
        "colab": {
          "base_uri": "https://localhost:8080/"
        },
        "id": "k536rvk2Bgpu",
        "outputId": "790cfc80-77e0-499d-f4ec-e3a82f664681"
      },
      "outputs": [
        {
          "output_type": "execute_result",
          "data": {
            "text/plain": [
              "array([ 5,  7,  9, 11, 13])"
            ]
          },
          "metadata": {},
          "execution_count": 64
        }
      ],
      "source": [
        "A.sum(axis=0)"
      ]
    },
    {
      "cell_type": "markdown",
      "metadata": {
        "id": "lHOXrHLQBgpu"
      },
      "source": [
        "### 【重點】 一行一行算過去是 `axis=1`\n",
        "\n",
        "![axis=1](images/axis1.png)"
      ]
    },
    {
      "cell_type": "code",
      "execution_count": null,
      "metadata": {
        "id": "MDmBjwEcBgpu",
        "outputId": "71e1ec43-7a69-4038-e554-a8eefbd63361"
      },
      "outputs": [
        {
          "data": {
            "text/plain": [
              "array([10, 35])"
            ]
          },
          "execution_count": 53,
          "metadata": {},
          "output_type": "execute_result"
        }
      ],
      "source": [
        "A.sum(axis=1)"
      ]
    },
    {
      "cell_type": "markdown",
      "metadata": {
        "id": "HLB0WjZeBgpu"
      },
      "source": [
        "### 【提示】當然也有可能全部算"
      ]
    },
    {
      "cell_type": "code",
      "execution_count": 5,
      "metadata": {
        "colab": {
          "base_uri": "https://localhost:8080/"
        },
        "id": "092yrNAaBgpv",
        "outputId": "2bdf32bb-79a2-4787-965b-3526d0cb5c40"
      },
      "outputs": [
        {
          "output_type": "execute_result",
          "data": {
            "text/plain": [
              "45"
            ]
          },
          "metadata": {},
          "execution_count": 5
        }
      ],
      "source": [
        "A.sum()"
      ]
    },
    {
      "cell_type": "markdown",
      "metadata": {
        "id": "x2Ds0lTLBgpv"
      },
      "source": [
        "## 6. array 過濾器\n",
        "\n",
        "篩出我們要的資料, 這樣的技巧非常重要!"
      ]
    },
    {
      "cell_type": "markdown",
      "metadata": {
        "id": "AI7Jpck1Bgpv"
      },
      "source": [
        "### 【例子】篩出大於 0 的數\n",
        "\n",
        "我們有個陣列, 想找出大於 0 的數。<br>\n",
        "L = np.array([3, -2, -1, 5, 7, -3])"
      ]
    },
    {
      "cell_type": "code",
      "execution_count": 6,
      "metadata": {
        "id": "Yvo7HS7UBgpv"
      },
      "outputs": [],
      "source": [
        "L = np.array([3, -2, -1, 5, 7, -3])"
      ]
    },
    {
      "cell_type": "markdown",
      "metadata": {
        "id": "1Z_RwwtlBgpv"
      },
      "source": [
        "我們可以很白痴的自己判斷...<br>\n",
        "c = np.array([True,False,False,True,True,False])"
      ]
    },
    {
      "cell_type": "code",
      "execution_count": 7,
      "metadata": {
        "id": "GPKut0xoBgpw"
      },
      "outputs": [],
      "source": [
        "c = np.array([True,False,False,True,True,False])"
      ]
    },
    {
      "cell_type": "markdown",
      "metadata": {
        "id": "08j7A0UzBgpw"
      },
      "source": [
        "這是做啥呢? 我們可以瞬間..."
      ]
    },
    {
      "cell_type": "code",
      "execution_count": 12,
      "metadata": {
        "colab": {
          "base_uri": "https://localhost:8080/"
        },
        "id": "Xy5kx4_NBgpw",
        "outputId": "cc21578e-f15b-491e-bdf3-9053ca4a086a"
      },
      "outputs": [
        {
          "output_type": "execute_result",
          "data": {
            "text/plain": [
              "array([ True, False, False,  True,  True, False])"
            ]
          },
          "metadata": {},
          "execution_count": 12
        }
      ],
      "source": [
        "L>0"
      ]
    },
    {
      "cell_type": "markdown",
      "metadata": {
        "id": "Ma6ovb-8Bgpw"
      },
      "source": [
        "除了自己做很白痴, 這看來很厲害!"
      ]
    },
    {
      "cell_type": "markdown",
      "metadata": {
        "id": "_Hav2x8HBgpw"
      },
      "source": [
        "事實上我們可以叫 `numpy` 做!"
      ]
    },
    {
      "cell_type": "code",
      "execution_count": 15,
      "metadata": {
        "colab": {
          "base_uri": "https://localhost:8080/"
        },
        "id": "09uI2g0_Bgpw",
        "outputId": "039fe28a-9b30-4164-c499-b76570602135"
      },
      "outputs": [
        {
          "output_type": "execute_result",
          "data": {
            "text/plain": [
              "array([ True, False, False,  True,  True, False])"
            ]
          },
          "metadata": {},
          "execution_count": 15
        }
      ],
      "source": [
        "L>0"
      ]
    },
    {
      "cell_type": "markdown",
      "metadata": {
        "id": "Xqyzw-0WBgpw"
      },
      "source": [
        "這有點強, 我們還可以一次到位!"
      ]
    },
    {
      "cell_type": "code",
      "execution_count": 13,
      "metadata": {
        "scrolled": true,
        "colab": {
          "base_uri": "https://localhost:8080/"
        },
        "id": "vq_bc8b9Bgpx",
        "outputId": "99cfe880-fd95-4f8b-d9c6-12f87ad1e586"
      },
      "outputs": [
        {
          "output_type": "execute_result",
          "data": {
            "text/plain": [
              "array([3, 5, 7])"
            ]
          },
          "metadata": {},
          "execution_count": 13
        }
      ],
      "source": [
        "#處理例外狀況\n",
        "L[L>0]"
      ]
    },
    {
      "cell_type": "markdown",
      "metadata": {
        "id": "8F7gOiqQBgpx"
      },
      "source": [
        "## 7. 次元切割刀\n",
        "\n",
        "`numpy` 中 array 的切割法和 list 很像。"
      ]
    },
    {
      "cell_type": "code",
      "execution_count": 16,
      "metadata": {
        "colab": {
          "base_uri": "https://localhost:8080/"
        },
        "id": "0xBELX5YBgpx",
        "outputId": "72d345a3-2078-4979-bc73-8748775e76e3"
      },
      "outputs": [
        {
          "output_type": "execute_result",
          "data": {
            "text/plain": [
              "array([0, 1, 2, 3, 4, 5, 6, 7, 8, 9])"
            ]
          },
          "metadata": {},
          "execution_count": 16
        }
      ],
      "source": [
        "x=np.arange(10)\n",
        "x"
      ]
    },
    {
      "cell_type": "code",
      "execution_count": 17,
      "metadata": {
        "colab": {
          "base_uri": "https://localhost:8080/"
        },
        "id": "iuoZRa1rBgpx",
        "outputId": "62ac0181-3b17-45fe-e682-51e95396194a"
      },
      "outputs": [
        {
          "output_type": "execute_result",
          "data": {
            "text/plain": [
              "array([3, 4, 5, 6])"
            ]
          },
          "metadata": {},
          "execution_count": 17
        }
      ],
      "source": [
        "x[3:7]"
      ]
    },
    {
      "cell_type": "markdown",
      "metadata": {
        "id": "jYbO-Zf_Bgpx"
      },
      "source": [
        "### 【技巧】2維陣列切法\n",
        "\n",
        "記得先列後行!"
      ]
    },
    {
      "cell_type": "code",
      "execution_count": 24,
      "metadata": {
        "colab": {
          "base_uri": "https://localhost:8080/"
        },
        "id": "bRFQKSGYBgpx",
        "outputId": "f2ffb8fa-2bb6-4fb1-8cfc-b256085989e1"
      },
      "outputs": [
        {
          "output_type": "execute_result",
          "data": {
            "text/plain": [
              "array([[0, 1, 2, 3, 4],\n",
              "       [5, 6, 7, 8, 9]])"
            ]
          },
          "metadata": {},
          "execution_count": 24
        }
      ],
      "source": [
        "x=x.reshape(2,5)\n",
        "x"
      ]
    },
    {
      "cell_type": "markdown",
      "metadata": {
        "id": "ORBnUpbEBgpx"
      },
      "source": [
        "要所有的row, 切出行 1-3 位置。"
      ]
    },
    {
      "cell_type": "code",
      "execution_count": 23,
      "metadata": {
        "colab": {
          "base_uri": "https://localhost:8080/"
        },
        "id": "WAizwp0TBgpy",
        "outputId": "9d2caeca-818d-4e55-afd9-940049363fd0"
      },
      "outputs": [
        {
          "output_type": "execute_result",
          "data": {
            "text/plain": [
              "array([[1, 2],\n",
              "       [6, 7]])"
            ]
          },
          "metadata": {},
          "execution_count": 23
        }
      ],
      "source": [
        "x[:,1:3]"
      ]
    },
    {
      "cell_type": "markdown",
      "metadata": {
        "id": "IF2xkHU7Bgpy"
      },
      "source": [
        "要所有的行col, 切出第 1 列row!"
      ]
    },
    {
      "cell_type": "code",
      "execution_count": 25,
      "metadata": {
        "colab": {
          "base_uri": "https://localhost:8080/"
        },
        "id": "Z5wDCxjyBgpy",
        "outputId": "e58c73e2-5ed9-422e-85ad-b7cc71d0cc97"
      },
      "outputs": [
        {
          "output_type": "execute_result",
          "data": {
            "text/plain": [
              "array([5, 6, 7, 8, 9])"
            ]
          },
          "metadata": {},
          "execution_count": 25
        }
      ],
      "source": [
        "x[1,:]"
      ]
    },
    {
      "cell_type": "markdown",
      "metadata": {
        "id": "mPzmZGptBgpy"
      },
      "source": [
        "## 8. `NumPy` 的 `zip` 和 `unzip`"
      ]
    },
    {
      "cell_type": "markdown",
      "metadata": {
        "id": "YCCw2NS1Bgpy"
      },
      "source": [
        "之前我們介紹 list 可以用 `zip` 和 `unzip` (其實還是 `zip`) 做到的資料格式變換, 在 array 中怎麼做呢?\n",
        "\n",
        "![zip and unzip](images/zip.png)"
      ]
    },
    {
      "cell_type": "markdown",
      "metadata": {
        "id": "G0eBRMKZBgpy"
      },
      "source": [
        "### 【重點】array 的 `zip`\n",
        "\n",
        "![array zip](images/arrzip.png)"
      ]
    },
    {
      "cell_type": "code",
      "execution_count": 26,
      "metadata": {
        "id": "u2tGI7bbBgpy"
      },
      "outputs": [],
      "source": [
        "x = np.array([1,2,3,4])\n",
        "y = np.array([5,6,7,8])"
      ]
    },
    {
      "cell_type": "code",
      "execution_count": 27,
      "metadata": {
        "colab": {
          "base_uri": "https://localhost:8080/"
        },
        "id": "F2tfedADBgpz",
        "outputId": "f7e27922-9e2c-46ea-8354-d75649173c7d"
      },
      "outputs": [
        {
          "output_type": "execute_result",
          "data": {
            "text/plain": [
              "array([[1, 5],\n",
              "       [2, 6],\n",
              "       [3, 7],\n",
              "       [4, 8]])"
            ]
          },
          "metadata": {},
          "execution_count": 27
        }
      ],
      "source": [
        "X=np.c_[x,y]\n",
        "X"
      ]
    },
    {
      "cell_type": "code",
      "execution_count": 28,
      "metadata": {
        "colab": {
          "base_uri": "https://localhost:8080/"
        },
        "id": "teLSUKwzBgpz",
        "outputId": "33570c63-33ae-4ab1-be9a-8dce483de883"
      },
      "outputs": [
        {
          "output_type": "execute_result",
          "data": {
            "text/plain": [
              "array([1, 2, 3, 4, 5, 6, 7, 8])"
            ]
          },
          "metadata": {},
          "execution_count": 28
        }
      ],
      "source": [
        "Y=np.r_[x,y]\n",
        "Y"
      ]
    },
    {
      "cell_type": "markdown",
      "metadata": {
        "id": "IbEwr-piBgpz"
      },
      "source": [
        "### 【重點】array 的 `unzip`\n",
        "\n",
        "這裡其實只需要用到 array 的切割法...\n",
        "\n",
        "![array zip](images/arrunzip.png)"
      ]
    },
    {
      "cell_type": "code",
      "execution_count": 29,
      "metadata": {
        "collapsed": true,
        "colab": {
          "base_uri": "https://localhost:8080/"
        },
        "id": "JK8HC_QpBgpz",
        "outputId": "b3411cf3-f18d-4a53-f013-c1927c1d9a24"
      },
      "outputs": [
        {
          "output_type": "execute_result",
          "data": {
            "text/plain": [
              "array([1, 2, 3, 4])"
            ]
          },
          "metadata": {},
          "execution_count": 29
        }
      ],
      "source": [
        "X[:,0]"
      ]
    }
  ],
  "metadata": {
    "kernelspec": {
      "display_name": "Python 3",
      "language": "python",
      "name": "python3"
    },
    "language_info": {
      "codemirror_mode": {
        "name": "ipython",
        "version": 3
      },
      "file_extension": ".py",
      "mimetype": "text/x-python",
      "name": "python",
      "nbconvert_exporter": "python",
      "pygments_lexer": "ipython3",
      "version": "3.8.8"
    },
    "colab": {
      "provenance": [],
      "include_colab_link": true
    }
  },
  "nbformat": 4,
  "nbformat_minor": 0
}